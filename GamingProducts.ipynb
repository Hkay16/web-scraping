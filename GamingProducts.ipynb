{
 "cells": [
  {
   "cell_type": "markdown",
   "id": "dc2867db",
   "metadata": {},
   "source": [
    "# Gaming Products"
   ]
  },
  {
   "cell_type": "code",
   "execution_count": 1,
   "id": "3643bd9e",
   "metadata": {},
   "outputs": [],
   "source": [
    "# Time - \"This module provides various time-related functions.\"\n",
    "import time\n",
    "\n",
    "# Requests - \"Requests is an elegant and simple HTTP library for Python, built for human beings.\"\n",
    "import requests\n",
    "\n",
    "# Beautifulsoup4 - \"Beautiful Soup is a library that makes it easy to scrape information from web pages.\"\n",
    "import bs4\n",
    "\n",
    "import pandas as pd"
   ]
  },
  {
   "cell_type": "code",
   "execution_count": 2,
   "id": "a38afcc6",
   "metadata": {},
   "outputs": [
    {
     "name": "stdout",
     "output_type": "stream",
     "text": [
      "Starting...\n",
      "<Response [200]>\n",
      "<Response [200]>\n",
      "<Response [200]>\n",
      "<Response [200]>\n",
      "<Response [200]>\n",
      "<Response [200]>\n",
      "Done!\n"
     ]
    }
   ],
   "source": [
    "sorts = {\n",
    "    \"Featured\" : 0,\n",
    "    \"Lowest Price\" : 1,\n",
    "    \"Highest Price\" : 2,\n",
    "    \"Best Selling\" : 3,\n",
    "    \"Best Rating\" : 4,\n",
    "    \"Most Reviews\" : 5,\n",
    "}\n",
    "keys = list(sorts.keys())\n",
    "\n",
    "soup_dict = {}\n",
    "print(\"Starting...\")\n",
    "for number in sorts.values():\n",
    "    url = f\"https://www.newegg.com/GPUs-Video-Graphics-Cards/SubCategory/ID-48?Order={number}\"\n",
    "    r = requests.get(url)\n",
    "    print(r)\n",
    "    soup_dict[number] = bs4.BeautifulSoup(r.content)\n",
    "print(\"Done!\")"
   ]
  },
  {
   "cell_type": "code",
   "execution_count": 3,
   "id": "e7701b62",
   "metadata": {},
   "outputs": [],
   "source": [
    "dfs = {}\n",
    "for i in sorts.values():\n",
    "    items = soup_dict[i].find_all(class_=\"item-cell\")\n",
    "    descs = []\n",
    "    prices = []\n",
    "    ratings = []\n",
    "    brands = []\n",
    "    for j in range(3):\n",
    "        desc = items[j].find(class_='item-title').get_text()\n",
    "        brand_class = items[j].find(class_=\"item-branding\")\n",
    "        brand_img = brand_class.find('img')\n",
    "        brand = brand_img['title']\n",
    "        price = items[j].find(class_=\"price-current\")\n",
    "        price = \"$\" + price.find('strong').get_text() + price.find('sup').get_text()\n",
    "        rating_class = items[j].find(class_=\"item-rating\")\n",
    "        if rating_class:\n",
    "            rating = rating_class.find('i')\n",
    "            rating = rating['aria-label']\n",
    "            rating = rating[6:]\n",
    "        else:\n",
    "            rating = 'None'\n",
    "        descs.append(desc)\n",
    "        prices.append(price)\n",
    "        ratings.append(rating)\n",
    "        brands.append(brand)\n",
    "    df = pd.DataFrame({\n",
    "        \"Brand\" : brands,\n",
    "        \"Price\" : prices,\n",
    "        \"Rating\" : ratings,\n",
    "        \"Description\" : descs\n",
    "    }, index=[1,2,3])\n",
    "    pd.set_option('display.max_colwidth', None)\n",
    "    dfs[keys[i]] = df"
   ]
  },
  {
   "cell_type": "code",
   "execution_count": 4,
   "id": "a6641502",
   "metadata": {},
   "outputs": [
    {
     "name": "stdout",
     "output_type": "stream",
     "text": [
      "Featured:"
     ]
    },
    {
     "data": {
      "text/html": [
       "<div>\n",
       "<style scoped>\n",
       "    .dataframe tbody tr th:only-of-type {\n",
       "        vertical-align: middle;\n",
       "    }\n",
       "\n",
       "    .dataframe tbody tr th {\n",
       "        vertical-align: top;\n",
       "    }\n",
       "\n",
       "    .dataframe thead th {\n",
       "        text-align: right;\n",
       "    }\n",
       "</style>\n",
       "<table border=\"1\" class=\"dataframe\">\n",
       "  <thead>\n",
       "    <tr style=\"text-align: right;\">\n",
       "      <th></th>\n",
       "      <th>Brand</th>\n",
       "      <th>Price</th>\n",
       "      <th>Rating</th>\n",
       "      <th>Description</th>\n",
       "    </tr>\n",
       "  </thead>\n",
       "  <tbody>\n",
       "    <tr>\n",
       "      <th>1</th>\n",
       "      <td>GIGABYTE</td>\n",
       "      <td>$849.99</td>\n",
       "      <td>4.9 out of 5</td>\n",
       "      <td>GIGABYTE GeForce RTX 4070 Ti GAMING OC 12G Graphics Card, 3x WINDFORCE Fans, 12GB 192-bit GDDR6X, GV-N407TGAMING OC-12GD Video Card</td>\n",
       "    </tr>\n",
       "    <tr>\n",
       "      <th>2</th>\n",
       "      <td>GIGABYTE</td>\n",
       "      <td>$1,263.77</td>\n",
       "      <td>4.3 out of 5</td>\n",
       "      <td>GIGABYTE Gaming GeForce RTX 4080 16GB GDDR6X PCI Express 4.0 x16 ATX Video Card GV-N4080GAMING OC-16GD</td>\n",
       "    </tr>\n",
       "    <tr>\n",
       "      <th>3</th>\n",
       "      <td>Mannajue</td>\n",
       "      <td>$189.99</td>\n",
       "      <td>5 out of 5</td>\n",
       "      <td>GeForce GTX 1660 SUPER 6GB GDDR6 PCI Express 3.0 x16 Video Card GTX 1660 SUPER</td>\n",
       "    </tr>\n",
       "  </tbody>\n",
       "</table>\n",
       "</div>"
      ],
      "text/plain": [
       "      Brand      Price        Rating  \\\n",
       "1  GIGABYTE    $849.99  4.9 out of 5   \n",
       "2  GIGABYTE  $1,263.77  4.3 out of 5   \n",
       "3  Mannajue    $189.99    5 out of 5   \n",
       "\n",
       "                                                                                                                           Description  \n",
       "1  GIGABYTE GeForce RTX 4070 Ti GAMING OC 12G Graphics Card, 3x WINDFORCE Fans, 12GB 192-bit GDDR6X, GV-N407TGAMING OC-12GD Video Card  \n",
       "2                               GIGABYTE Gaming GeForce RTX 4080 16GB GDDR6X PCI Express 4.0 x16 ATX Video Card GV-N4080GAMING OC-16GD  \n",
       "3                                                       GeForce GTX 1660 SUPER 6GB GDDR6 PCI Express 3.0 x16 Video Card GTX 1660 SUPER  "
      ]
     },
     "metadata": {},
     "output_type": "display_data"
    },
    {
     "name": "stdout",
     "output_type": "stream",
     "text": [
      "\n",
      "Lowest Price:"
     ]
    },
    {
     "data": {
      "text/html": [
       "<div>\n",
       "<style scoped>\n",
       "    .dataframe tbody tr th:only-of-type {\n",
       "        vertical-align: middle;\n",
       "    }\n",
       "\n",
       "    .dataframe tbody tr th {\n",
       "        vertical-align: top;\n",
       "    }\n",
       "\n",
       "    .dataframe thead th {\n",
       "        text-align: right;\n",
       "    }\n",
       "</style>\n",
       "<table border=\"1\" class=\"dataframe\">\n",
       "  <thead>\n",
       "    <tr style=\"text-align: right;\">\n",
       "      <th></th>\n",
       "      <th>Brand</th>\n",
       "      <th>Price</th>\n",
       "      <th>Rating</th>\n",
       "      <th>Description</th>\n",
       "    </tr>\n",
       "  </thead>\n",
       "  <tbody>\n",
       "    <tr>\n",
       "      <th>1</th>\n",
       "      <td>DELL</td>\n",
       "      <td>$18.00</td>\n",
       "      <td>None</td>\n",
       "      <td>Refurbished Dell Radeon 6350 512MB Single Fan GDDR3 XF27T Video Graphics Card GPU</td>\n",
       "    </tr>\n",
       "    <tr>\n",
       "      <th>2</th>\n",
       "      <td>DELL</td>\n",
       "      <td>$18.30</td>\n",
       "      <td>None</td>\n",
       "      <td>Refurbished Dell Radeon 6350 LP 512MB Single Fan GDDR3 HFKYC Video Graphics Card GPU</td>\n",
       "    </tr>\n",
       "    <tr>\n",
       "      <th>3</th>\n",
       "      <td>Mannajue</td>\n",
       "      <td>$189.99</td>\n",
       "      <td>5 out of 5</td>\n",
       "      <td>GeForce GTX 1660 SUPER 6GB GDDR6 PCI Express 3.0 x16 Video Card GTX 1660 SUPER</td>\n",
       "    </tr>\n",
       "  </tbody>\n",
       "</table>\n",
       "</div>"
      ],
      "text/plain": [
       "      Brand    Price      Rating  \\\n",
       "1      DELL   $18.00        None   \n",
       "2      DELL   $18.30        None   \n",
       "3  Mannajue  $189.99  5 out of 5   \n",
       "\n",
       "                                                                            Description  \n",
       "1     Refurbished Dell Radeon 6350 512MB Single Fan GDDR3 XF27T Video Graphics Card GPU  \n",
       "2  Refurbished Dell Radeon 6350 LP 512MB Single Fan GDDR3 HFKYC Video Graphics Card GPU  \n",
       "3        GeForce GTX 1660 SUPER 6GB GDDR6 PCI Express 3.0 x16 Video Card GTX 1660 SUPER  "
      ]
     },
     "metadata": {},
     "output_type": "display_data"
    },
    {
     "name": "stdout",
     "output_type": "stream",
     "text": [
      "\n",
      "Highest Price:"
     ]
    },
    {
     "data": {
      "text/html": [
       "<div>\n",
       "<style scoped>\n",
       "    .dataframe tbody tr th:only-of-type {\n",
       "        vertical-align: middle;\n",
       "    }\n",
       "\n",
       "    .dataframe tbody tr th {\n",
       "        vertical-align: top;\n",
       "    }\n",
       "\n",
       "    .dataframe thead th {\n",
       "        text-align: right;\n",
       "    }\n",
       "</style>\n",
       "<table border=\"1\" class=\"dataframe\">\n",
       "  <thead>\n",
       "    <tr style=\"text-align: right;\">\n",
       "      <th></th>\n",
       "      <th>Brand</th>\n",
       "      <th>Price</th>\n",
       "      <th>Rating</th>\n",
       "      <th>Description</th>\n",
       "    </tr>\n",
       "  </thead>\n",
       "  <tbody>\n",
       "    <tr>\n",
       "      <th>1</th>\n",
       "      <td>NVIDIA</td>\n",
       "      <td>$16,550.00</td>\n",
       "      <td>None</td>\n",
       "      <td>PNY Nvidia A100 PCI-E 4.0 Ampere Tensor Core GPU 40GB Graphics Card</td>\n",
       "    </tr>\n",
       "    <tr>\n",
       "      <th>2</th>\n",
       "      <td>Lenovo</td>\n",
       "      <td>$8,845.00</td>\n",
       "      <td>None</td>\n",
       "      <td>Lenovo GRID K2 Graphic Card - 2 GPUs - 745 MHz Core - 8 GB GDDR5 - PCI Express 3.0 - Dual Slot Space Required</td>\n",
       "    </tr>\n",
       "    <tr>\n",
       "      <th>3</th>\n",
       "      <td>Mannajue</td>\n",
       "      <td>$189.99</td>\n",
       "      <td>5 out of 5</td>\n",
       "      <td>GeForce GTX 1660 SUPER 6GB GDDR6 PCI Express 3.0 x16 Video Card GTX 1660 SUPER</td>\n",
       "    </tr>\n",
       "  </tbody>\n",
       "</table>\n",
       "</div>"
      ],
      "text/plain": [
       "      Brand       Price      Rating  \\\n",
       "1    NVIDIA  $16,550.00        None   \n",
       "2    Lenovo   $8,845.00        None   \n",
       "3  Mannajue     $189.99  5 out of 5   \n",
       "\n",
       "                                                                                                     Description  \n",
       "1                                            PNY Nvidia A100 PCI-E 4.0 Ampere Tensor Core GPU 40GB Graphics Card  \n",
       "2  Lenovo GRID K2 Graphic Card - 2 GPUs - 745 MHz Core - 8 GB GDDR5 - PCI Express 3.0 - Dual Slot Space Required  \n",
       "3                                 GeForce GTX 1660 SUPER 6GB GDDR6 PCI Express 3.0 x16 Video Card GTX 1660 SUPER  "
      ]
     },
     "metadata": {},
     "output_type": "display_data"
    },
    {
     "name": "stdout",
     "output_type": "stream",
     "text": [
      "\n",
      "Best Selling:"
     ]
    },
    {
     "data": {
      "text/html": [
       "<div>\n",
       "<style scoped>\n",
       "    .dataframe tbody tr th:only-of-type {\n",
       "        vertical-align: middle;\n",
       "    }\n",
       "\n",
       "    .dataframe tbody tr th {\n",
       "        vertical-align: top;\n",
       "    }\n",
       "\n",
       "    .dataframe thead th {\n",
       "        text-align: right;\n",
       "    }\n",
       "</style>\n",
       "<table border=\"1\" class=\"dataframe\">\n",
       "  <thead>\n",
       "    <tr style=\"text-align: right;\">\n",
       "      <th></th>\n",
       "      <th>Brand</th>\n",
       "      <th>Price</th>\n",
       "      <th>Rating</th>\n",
       "      <th>Description</th>\n",
       "    </tr>\n",
       "  </thead>\n",
       "  <tbody>\n",
       "    <tr>\n",
       "      <th>1</th>\n",
       "      <td>GIGABYTE</td>\n",
       "      <td>$1,699.99</td>\n",
       "      <td>4.7 out of 5</td>\n",
       "      <td>GIGABYTE Gaming GeForce RTX 4090 24GB GDDR6X PCI Express 4.0 x16 ATX Video Card GV-N4090GAMING OC-24GD</td>\n",
       "    </tr>\n",
       "    <tr>\n",
       "      <th>2</th>\n",
       "      <td>MSI</td>\n",
       "      <td>$364.99</td>\n",
       "      <td>4.8 out of 5</td>\n",
       "      <td>MSI Ventus GeForce RTX 3060 12GB GDDR6 PCI Express 4.0 Video Card RTX 3060 Ventus 2X 12G OC</td>\n",
       "    </tr>\n",
       "    <tr>\n",
       "      <th>3</th>\n",
       "      <td>Mannajue</td>\n",
       "      <td>$189.99</td>\n",
       "      <td>5 out of 5</td>\n",
       "      <td>GeForce GTX 1660 SUPER 6GB GDDR6 PCI Express 3.0 x16 Video Card GTX 1660 SUPER</td>\n",
       "    </tr>\n",
       "  </tbody>\n",
       "</table>\n",
       "</div>"
      ],
      "text/plain": [
       "      Brand      Price        Rating  \\\n",
       "1  GIGABYTE  $1,699.99  4.7 out of 5   \n",
       "2       MSI    $364.99  4.8 out of 5   \n",
       "3  Mannajue    $189.99    5 out of 5   \n",
       "\n",
       "                                                                                              Description  \n",
       "1  GIGABYTE Gaming GeForce RTX 4090 24GB GDDR6X PCI Express 4.0 x16 ATX Video Card GV-N4090GAMING OC-24GD  \n",
       "2             MSI Ventus GeForce RTX 3060 12GB GDDR6 PCI Express 4.0 Video Card RTX 3060 Ventus 2X 12G OC  \n",
       "3                          GeForce GTX 1660 SUPER 6GB GDDR6 PCI Express 3.0 x16 Video Card GTX 1660 SUPER  "
      ]
     },
     "metadata": {},
     "output_type": "display_data"
    },
    {
     "name": "stdout",
     "output_type": "stream",
     "text": [
      "\n",
      "Best Rating:"
     ]
    },
    {
     "data": {
      "text/html": [
       "<div>\n",
       "<style scoped>\n",
       "    .dataframe tbody tr th:only-of-type {\n",
       "        vertical-align: middle;\n",
       "    }\n",
       "\n",
       "    .dataframe tbody tr th {\n",
       "        vertical-align: top;\n",
       "    }\n",
       "\n",
       "    .dataframe thead th {\n",
       "        text-align: right;\n",
       "    }\n",
       "</style>\n",
       "<table border=\"1\" class=\"dataframe\">\n",
       "  <thead>\n",
       "    <tr style=\"text-align: right;\">\n",
       "      <th></th>\n",
       "      <th>Brand</th>\n",
       "      <th>Price</th>\n",
       "      <th>Rating</th>\n",
       "      <th>Description</th>\n",
       "    </tr>\n",
       "  </thead>\n",
       "  <tbody>\n",
       "    <tr>\n",
       "      <th>1</th>\n",
       "      <td>EVGA</td>\n",
       "      <td>$395.00</td>\n",
       "      <td>5 out of 5</td>\n",
       "      <td>EVGA 03G-P4-2781-KR G-SYNC Support GeForce GTX 780 3GB 384-Bit GDDR5 PCI Express 3.0 SLI Support Video Card</td>\n",
       "    </tr>\n",
       "    <tr>\n",
       "      <th>2</th>\n",
       "      <td>ASUS</td>\n",
       "      <td>$320.00</td>\n",
       "      <td>5 out of 5</td>\n",
       "      <td>ASUS GeForce GTX 660 Ti 2GB GDDR5 PCI Express 3.0 x16 SLI Support Video Card GTX660 TI-DC2-2GD5</td>\n",
       "    </tr>\n",
       "    <tr>\n",
       "      <th>3</th>\n",
       "      <td>Mannajue</td>\n",
       "      <td>$169.99</td>\n",
       "      <td>5 out of 5</td>\n",
       "      <td>GAMING GeForce GTX 1660 6GB GDDR5 192-bit Gaming Graphics Card, Super Compact</td>\n",
       "    </tr>\n",
       "  </tbody>\n",
       "</table>\n",
       "</div>"
      ],
      "text/plain": [
       "      Brand    Price      Rating  \\\n",
       "1      EVGA  $395.00  5 out of 5   \n",
       "2      ASUS  $320.00  5 out of 5   \n",
       "3  Mannajue  $169.99  5 out of 5   \n",
       "\n",
       "                                                                                                   Description  \n",
       "1  EVGA 03G-P4-2781-KR G-SYNC Support GeForce GTX 780 3GB 384-Bit GDDR5 PCI Express 3.0 SLI Support Video Card  \n",
       "2              ASUS GeForce GTX 660 Ti 2GB GDDR5 PCI Express 3.0 x16 SLI Support Video Card GTX660 TI-DC2-2GD5  \n",
       "3                                GAMING GeForce GTX 1660 6GB GDDR5 192-bit Gaming Graphics Card, Super Compact  "
      ]
     },
     "metadata": {},
     "output_type": "display_data"
    },
    {
     "name": "stdout",
     "output_type": "stream",
     "text": [
      "\n",
      "Most Reviews:"
     ]
    },
    {
     "data": {
      "text/html": [
       "<div>\n",
       "<style scoped>\n",
       "    .dataframe tbody tr th:only-of-type {\n",
       "        vertical-align: middle;\n",
       "    }\n",
       "\n",
       "    .dataframe tbody tr th {\n",
       "        vertical-align: top;\n",
       "    }\n",
       "\n",
       "    .dataframe thead th {\n",
       "        text-align: right;\n",
       "    }\n",
       "</style>\n",
       "<table border=\"1\" class=\"dataframe\">\n",
       "  <thead>\n",
       "    <tr style=\"text-align: right;\">\n",
       "      <th></th>\n",
       "      <th>Brand</th>\n",
       "      <th>Price</th>\n",
       "      <th>Rating</th>\n",
       "      <th>Description</th>\n",
       "    </tr>\n",
       "  </thead>\n",
       "  <tbody>\n",
       "    <tr>\n",
       "      <th>1</th>\n",
       "      <td>XFX</td>\n",
       "      <td>$268.00</td>\n",
       "      <td>4.1 out of 5</td>\n",
       "      <td>XFX Radeon HD 5770 (Juniper XT) 1GB GDDR5 PCI Express 2.1 x16 CrossFireX Support Video Card HD-577A-ZNFC</td>\n",
       "    </tr>\n",
       "    <tr>\n",
       "      <th>2</th>\n",
       "      <td>EVGA</td>\n",
       "      <td>$231.83</td>\n",
       "      <td>4.8 out of 5</td>\n",
       "      <td>EVGA GeForce 8800 GTS 320MB GDDR3 PCI Express x16 SLI Support Video Card 320-P2-N811-AR</td>\n",
       "    </tr>\n",
       "    <tr>\n",
       "      <th>3</th>\n",
       "      <td>Mannajue</td>\n",
       "      <td>$189.99</td>\n",
       "      <td>5 out of 5</td>\n",
       "      <td>GeForce GTX 1660 SUPER 6GB GDDR6 PCI Express 3.0 x16 Video Card GTX 1660 SUPER</td>\n",
       "    </tr>\n",
       "  </tbody>\n",
       "</table>\n",
       "</div>"
      ],
      "text/plain": [
       "      Brand    Price        Rating  \\\n",
       "1       XFX  $268.00  4.1 out of 5   \n",
       "2      EVGA  $231.83  4.8 out of 5   \n",
       "3  Mannajue  $189.99    5 out of 5   \n",
       "\n",
       "                                                                                                Description  \n",
       "1  XFX Radeon HD 5770 (Juniper XT) 1GB GDDR5 PCI Express 2.1 x16 CrossFireX Support Video Card HD-577A-ZNFC  \n",
       "2                   EVGA GeForce 8800 GTS 320MB GDDR3 PCI Express x16 SLI Support Video Card 320-P2-N811-AR  \n",
       "3                            GeForce GTX 1660 SUPER 6GB GDDR6 PCI Express 3.0 x16 Video Card GTX 1660 SUPER  "
      ]
     },
     "metadata": {},
     "output_type": "display_data"
    },
    {
     "name": "stdout",
     "output_type": "stream",
     "text": [
      "\n"
     ]
    }
   ],
   "source": [
    "for key, df in dfs.items():\n",
    "    print(f\"{key}:\",end='')\n",
    "    display(df)\n",
    "    print()"
   ]
  },
  {
   "cell_type": "code",
   "execution_count": 5,
   "id": "d082b559",
   "metadata": {},
   "outputs": [
    {
     "name": "stdout",
     "output_type": "stream",
     "text": [
      "In this program, I web scraped a website called Newegg, which is a website that sells gaming products for PC builds and more. I was specifically interested in finding out more about the graphics cards that they are selling. I noticed that the website had 6 different sorting options, so I checked to see what the difference in the urls were. I noticed that there was a 'Order=#' that was added to the end each time with a value from 0 to 5 replacing the '#'. With that, I decided to get the top 3 results from every sorted page. For each item, I found the brand, rating, price, and the title which I called description. Then, I put them into 6 different dataframes for each sort type and displayed them with no max width so the description is fully seen. Now I can compare the top 3 results from each page. Interestingly enough, I found out that the lowest and highest priced items often don't have reviews/ratings.\n"
     ]
    }
   ],
   "source": [
    "paragraph= \"In this program, I web scraped a website called Newegg, which is a website that sells gaming products for PC builds and more. I was specifically interested in finding out more about the graphics cards that they are selling. I noticed that the website had 6 different sorting options, so I checked to see what the difference in the urls were. I noticed that there was a 'Order=#' that was added to the end each time with a value from 0 to 5 replacing the '#'. With that, I decided to get the top 3 results from every sorted page. For each item, I found the brand, rating, price, and the title which I called description. Then, I put them into 6 different dataframes for each sort type and displayed them with no max width so the description is fully seen. Now I can compare the top 3 results from each page. Interestingly enough, I found out that the lowest and highest priced items often don't have reviews/ratings.\"\n",
    "print(paragraph)"
   ]
  },
  {
   "cell_type": "code",
   "execution_count": null,
   "id": "6aa6019a",
   "metadata": {},
   "outputs": [],
   "source": []
  }
 ],
 "metadata": {
  "kernelspec": {
   "display_name": "Python 3 (ipykernel)",
   "language": "python",
   "name": "python3"
  },
  "language_info": {
   "codemirror_mode": {
    "name": "ipython",
    "version": 3
   },
   "file_extension": ".py",
   "mimetype": "text/x-python",
   "name": "python",
   "nbconvert_exporter": "python",
   "pygments_lexer": "ipython3",
   "version": "3.12.2"
  }
 },
 "nbformat": 4,
 "nbformat_minor": 5
}
