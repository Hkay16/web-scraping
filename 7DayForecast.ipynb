{
 "cells": [
  {
   "cell_type": "markdown",
   "id": "d1011756-de58-4a7e-afaa-3a0ffce5e02a",
   "metadata": {},
   "source": [
    "# 7 Day Forecast"
   ]
  },
  {
   "cell_type": "code",
   "execution_count": 1,
   "id": "07c38776",
   "metadata": {},
   "outputs": [],
   "source": [
    "import time\n",
    "import requests\n",
    "import bs4\n",
    "import pandas as pd"
   ]
  },
  {
   "cell_type": "code",
   "execution_count": 2,
   "id": "e4551976",
   "metadata": {},
   "outputs": [
    {
     "name": "stdout",
     "output_type": "stream",
     "text": [
      "<Response [200]>\n"
     ]
    }
   ],
   "source": [
    "url = f'https://forecast.weather.gov/MapClick.php?lat=33.2104&lon=-87.5662#.ZAoD4cLMLiA'\n",
    "r = requests.get(url)\n",
    "print(r)\n",
    "soup = bs4.BeautifulSoup(r.content)"
   ]
  },
  {
   "cell_type": "code",
   "execution_count": 3,
   "id": "d76e0016",
   "metadata": {},
   "outputs": [
    {
     "data": {
      "text/plain": [
       "<div class=\"panel panel-default\" id=\"seven-day-forecast\">\n",
       "<div class=\"panel-heading\">\n",
       "<b>Extended Forecast for</b>\n",
       "<h2 class=\"panel-title\">\n",
       "                2 Miles SW Tuscaloosa AL    </h2>\n",
       "</div>\n",
       "<div class=\"panel-body\" id=\"seven-day-forecast-body\">\n",
       "<div id=\"seven-day-forecast-container\"><ul class=\"list-unstyled\" id=\"seven-day-forecast-list\"><li class=\"forecast-tombstone\">\n",
       "<div class=\"tombstone-container\">\n",
       "<p class=\"period-name\">Today<br/><br/></p>\n",
       "<p><img alt=\"Today: Showers likely and possibly a thunderstorm.  Mostly cloudy, with a high near 67. Southeast wind around 5 mph.  Chance of precipitation is 60%. New rainfall amounts between a tenth and quarter of an inch, except higher amounts possible in thunderstorms. \" class=\"forecast-icon\" src=\"newimages/medium/shra60.png\" title=\"Today: Showers likely and possibly a thunderstorm.  Mostly cloudy, with a high near 67. Southeast wind around 5 mph.  Chance of precipitation is 60%. New rainfall amounts between a tenth and quarter of an inch, except higher amounts possible in thunderstorms. \"/></p><p class=\"short-desc\">Showers<br/>Likely</p><p class=\"temp temp-high\">High: 67 °F</p></div></li><li class=\"forecast-tombstone\">\n",
       "<div class=\"tombstone-container\">\n",
       "<p class=\"period-name\">Tonight<br/><br/></p>\n",
       "<p><img alt=\"Tonight: Showers and possibly a thunderstorm before 3am, then showers likely.  Low around 59. East wind around 5 mph becoming west after midnight.  Chance of precipitation is 80%. New rainfall amounts between a quarter and half of an inch possible. \" class=\"forecast-icon\" src=\"newimages/medium/nshra80.png\" title=\"Tonight: Showers and possibly a thunderstorm before 3am, then showers likely.  Low around 59. East wind around 5 mph becoming west after midnight.  Chance of precipitation is 80%. New rainfall amounts between a quarter and half of an inch possible. \"/></p><p class=\"short-desc\">Showers</p><p class=\"temp temp-low\">Low: 59 °F</p></div></li><li class=\"forecast-tombstone\">\n",
       "<div class=\"tombstone-container\">\n",
       "<p class=\"period-name\">Friday<br/><br/></p>\n",
       "<p><img alt=\"Friday: A 50 percent chance of showers, mainly before 9am.  Partly sunny, with a high near 67. Northwest wind 5 to 10 mph.  New precipitation amounts between a tenth and quarter of an inch possible. \" class=\"forecast-icon\" src=\"DualImage.php?i=shra&amp;j=sct&amp;ip=50\" title=\"Friday: A 50 percent chance of showers, mainly before 9am.  Partly sunny, with a high near 67. Northwest wind 5 to 10 mph.  New precipitation amounts between a tenth and quarter of an inch possible. \"/></p><p class=\"short-desc\">Chance<br/>Showers then<br/>Mostly Sunny</p><p class=\"temp temp-high\">High: 67 °F</p></div></li><li class=\"forecast-tombstone\">\n",
       "<div class=\"tombstone-container\">\n",
       "<p class=\"period-name\">Friday<br/>Night</p>\n",
       "<p><img alt=\"Friday Night: Mostly clear, with a low around 41. North wind 5 to 10 mph. \" class=\"forecast-icon\" src=\"newimages/medium/nfew.png\" title=\"Friday Night: Mostly clear, with a low around 41. North wind 5 to 10 mph. \"/></p><p class=\"short-desc\">Mostly Clear</p><p class=\"temp temp-low\">Low: 41 °F</p></div></li><li class=\"forecast-tombstone\">\n",
       "<div class=\"tombstone-container\">\n",
       "<p class=\"period-name\">Saturday<br/><br/></p>\n",
       "<p><img alt=\"Saturday: Mostly sunny, with a high near 67. Northeast wind around 5 mph becoming southeast in the afternoon. \" class=\"forecast-icon\" src=\"newimages/medium/sct.png\" title=\"Saturday: Mostly sunny, with a high near 67. Northeast wind around 5 mph becoming southeast in the afternoon. \"/></p><p class=\"short-desc\">Mostly Sunny</p><p class=\"temp temp-high\">High: 67 °F</p></div></li><li class=\"forecast-tombstone\">\n",
       "<div class=\"tombstone-container\">\n",
       "<p class=\"period-name\">Saturday<br/>Night</p>\n",
       "<p><img alt=\"Saturday Night: A 40 percent chance of showers after midnight.  Mostly cloudy, with a low around 55.\" class=\"forecast-icon\" src=\"DualImage.php?i=nsct&amp;j=nshra&amp;jp=40\" title=\"Saturday Night: A 40 percent chance of showers after midnight.  Mostly cloudy, with a low around 55.\"/></p><p class=\"short-desc\">Partly Cloudy<br/>then Chance<br/>Showers</p><p class=\"temp temp-low\">Low: 55 °F</p></div></li><li class=\"forecast-tombstone\">\n",
       "<div class=\"tombstone-container\">\n",
       "<p class=\"period-name\">Sunday<br/><br/></p>\n",
       "<p><img alt=\"Sunday: Showers likely and possibly a thunderstorm, then showers and thunderstorms after noon.  High near 74. Chance of precipitation is 90%.\" class=\"forecast-icon\" src=\"DualImage.php?i=shra&amp;j=tsra&amp;ip=70&amp;jp=90\" title=\"Sunday: Showers likely and possibly a thunderstorm, then showers and thunderstorms after noon.  High near 74. Chance of precipitation is 90%.\"/></p><p class=\"short-desc\">Showers<br/>Likely then<br/>T-storms</p><p class=\"temp temp-high\">High: 74 °F</p></div></li><li class=\"forecast-tombstone\">\n",
       "<div class=\"tombstone-container\">\n",
       "<p class=\"period-name\">Sunday<br/>Night</p>\n",
       "<p><img alt=\"Sunday Night: A 50 percent chance of showers before midnight.  Mostly cloudy, with a low around 47.\" class=\"forecast-icon\" src=\"DualImage.php?i=nshra&amp;j=nbkn&amp;ip=50\" title=\"Sunday Night: A 50 percent chance of showers before midnight.  Mostly cloudy, with a low around 47.\"/></p><p class=\"short-desc\">Chance<br/>Showers then<br/>Mostly Cloudy</p><p class=\"temp temp-low\">Low: 47 °F</p></div></li><li class=\"forecast-tombstone\">\n",
       "<div class=\"tombstone-container\">\n",
       "<p class=\"period-name\">Monday<br/><br/></p>\n",
       "<p><img alt=\"Monday: Mostly sunny, with a high near 61.\" class=\"forecast-icon\" src=\"newimages/medium/sct.png\" title=\"Monday: Mostly sunny, with a high near 61.\"/></p><p class=\"short-desc\">Mostly Sunny</p><p class=\"temp temp-high\">High: 61 °F</p></div></li></ul></div>\n",
       "<script type=\"text/javascript\">\n",
       "// equalize forecast heights\n",
       "$(function () {\n",
       "    var maxh = 0;\n",
       "    $(\".forecast-tombstone .short-desc\").each(function () {\n",
       "        var h = $(this).height();\n",
       "        if (h > maxh) { maxh = h; }\n",
       "    });\n",
       "    $(\".forecast-tombstone .short-desc\").height(maxh);\n",
       "});\n",
       "</script> </div>\n",
       "</div>"
      ]
     },
     "execution_count": 3,
     "metadata": {},
     "output_type": "execute_result"
    }
   ],
   "source": [
    "seven_day = soup.find(id=\"seven-day-forecast\")\n",
    "\n",
    "seven_day"
   ]
  },
  {
   "cell_type": "code",
   "execution_count": 4,
   "id": "2ec93b1b",
   "metadata": {},
   "outputs": [
    {
     "data": {
      "text/plain": [
       "[<div class=\"tombstone-container\">\n",
       " <p class=\"period-name\">Today<br/><br/></p>\n",
       " <p><img alt=\"Today: Showers likely and possibly a thunderstorm.  Mostly cloudy, with a high near 67. Southeast wind around 5 mph.  Chance of precipitation is 60%. New rainfall amounts between a tenth and quarter of an inch, except higher amounts possible in thunderstorms. \" class=\"forecast-icon\" src=\"newimages/medium/shra60.png\" title=\"Today: Showers likely and possibly a thunderstorm.  Mostly cloudy, with a high near 67. Southeast wind around 5 mph.  Chance of precipitation is 60%. New rainfall amounts between a tenth and quarter of an inch, except higher amounts possible in thunderstorms. \"/></p><p class=\"short-desc\">Showers<br/>Likely</p><p class=\"temp temp-high\">High: 67 °F</p></div>,\n",
       " <div class=\"tombstone-container\">\n",
       " <p class=\"period-name\">Tonight<br/><br/></p>\n",
       " <p><img alt=\"Tonight: Showers and possibly a thunderstorm before 3am, then showers likely.  Low around 59. East wind around 5 mph becoming west after midnight.  Chance of precipitation is 80%. New rainfall amounts between a quarter and half of an inch possible. \" class=\"forecast-icon\" src=\"newimages/medium/nshra80.png\" title=\"Tonight: Showers and possibly a thunderstorm before 3am, then showers likely.  Low around 59. East wind around 5 mph becoming west after midnight.  Chance of precipitation is 80%. New rainfall amounts between a quarter and half of an inch possible. \"/></p><p class=\"short-desc\">Showers</p><p class=\"temp temp-low\">Low: 59 °F</p></div>,\n",
       " <div class=\"tombstone-container\">\n",
       " <p class=\"period-name\">Friday<br/><br/></p>\n",
       " <p><img alt=\"Friday: A 50 percent chance of showers, mainly before 9am.  Partly sunny, with a high near 67. Northwest wind 5 to 10 mph.  New precipitation amounts between a tenth and quarter of an inch possible. \" class=\"forecast-icon\" src=\"DualImage.php?i=shra&amp;j=sct&amp;ip=50\" title=\"Friday: A 50 percent chance of showers, mainly before 9am.  Partly sunny, with a high near 67. Northwest wind 5 to 10 mph.  New precipitation amounts between a tenth and quarter of an inch possible. \"/></p><p class=\"short-desc\">Chance<br/>Showers then<br/>Mostly Sunny</p><p class=\"temp temp-high\">High: 67 °F</p></div>,\n",
       " <div class=\"tombstone-container\">\n",
       " <p class=\"period-name\">Friday<br/>Night</p>\n",
       " <p><img alt=\"Friday Night: Mostly clear, with a low around 41. North wind 5 to 10 mph. \" class=\"forecast-icon\" src=\"newimages/medium/nfew.png\" title=\"Friday Night: Mostly clear, with a low around 41. North wind 5 to 10 mph. \"/></p><p class=\"short-desc\">Mostly Clear</p><p class=\"temp temp-low\">Low: 41 °F</p></div>,\n",
       " <div class=\"tombstone-container\">\n",
       " <p class=\"period-name\">Saturday<br/><br/></p>\n",
       " <p><img alt=\"Saturday: Mostly sunny, with a high near 67. Northeast wind around 5 mph becoming southeast in the afternoon. \" class=\"forecast-icon\" src=\"newimages/medium/sct.png\" title=\"Saturday: Mostly sunny, with a high near 67. Northeast wind around 5 mph becoming southeast in the afternoon. \"/></p><p class=\"short-desc\">Mostly Sunny</p><p class=\"temp temp-high\">High: 67 °F</p></div>,\n",
       " <div class=\"tombstone-container\">\n",
       " <p class=\"period-name\">Saturday<br/>Night</p>\n",
       " <p><img alt=\"Saturday Night: A 40 percent chance of showers after midnight.  Mostly cloudy, with a low around 55.\" class=\"forecast-icon\" src=\"DualImage.php?i=nsct&amp;j=nshra&amp;jp=40\" title=\"Saturday Night: A 40 percent chance of showers after midnight.  Mostly cloudy, with a low around 55.\"/></p><p class=\"short-desc\">Partly Cloudy<br/>then Chance<br/>Showers</p><p class=\"temp temp-low\">Low: 55 °F</p></div>,\n",
       " <div class=\"tombstone-container\">\n",
       " <p class=\"period-name\">Sunday<br/><br/></p>\n",
       " <p><img alt=\"Sunday: Showers likely and possibly a thunderstorm, then showers and thunderstorms after noon.  High near 74. Chance of precipitation is 90%.\" class=\"forecast-icon\" src=\"DualImage.php?i=shra&amp;j=tsra&amp;ip=70&amp;jp=90\" title=\"Sunday: Showers likely and possibly a thunderstorm, then showers and thunderstorms after noon.  High near 74. Chance of precipitation is 90%.\"/></p><p class=\"short-desc\">Showers<br/>Likely then<br/>T-storms</p><p class=\"temp temp-high\">High: 74 °F</p></div>,\n",
       " <div class=\"tombstone-container\">\n",
       " <p class=\"period-name\">Sunday<br/>Night</p>\n",
       " <p><img alt=\"Sunday Night: A 50 percent chance of showers before midnight.  Mostly cloudy, with a low around 47.\" class=\"forecast-icon\" src=\"DualImage.php?i=nshra&amp;j=nbkn&amp;ip=50\" title=\"Sunday Night: A 50 percent chance of showers before midnight.  Mostly cloudy, with a low around 47.\"/></p><p class=\"short-desc\">Chance<br/>Showers then<br/>Mostly Cloudy</p><p class=\"temp temp-low\">Low: 47 °F</p></div>,\n",
       " <div class=\"tombstone-container\">\n",
       " <p class=\"period-name\">Monday<br/><br/></p>\n",
       " <p><img alt=\"Monday: Mostly sunny, with a high near 61.\" class=\"forecast-icon\" src=\"newimages/medium/sct.png\" title=\"Monday: Mostly sunny, with a high near 61.\"/></p><p class=\"short-desc\">Mostly Sunny</p><p class=\"temp temp-high\">High: 61 °F</p></div>]"
      ]
     },
     "execution_count": 4,
     "metadata": {},
     "output_type": "execute_result"
    }
   ],
   "source": [
    "forecast_items = seven_day.find_all(class_=\"tombstone-container\")\n",
    "\n",
    "forecast_items"
   ]
  },
  {
   "cell_type": "code",
   "execution_count": 5,
   "id": "f6324d27",
   "metadata": {},
   "outputs": [
    {
     "name": "stdout",
     "output_type": "stream",
     "text": [
      "<div class=\"tombstone-container\">\n",
      " <p class=\"period-name\">\n",
      "  Today\n",
      "  <br/>\n",
      "  <br/>\n",
      " </p>\n",
      " <p>\n",
      "  <img alt=\"Today: Showers likely and possibly a thunderstorm.  Mostly cloudy, with a high near 67. Southeast wind around 5 mph.  Chance of precipitation is 60%. New rainfall amounts between a tenth and quarter of an inch, except higher amounts possible in thunderstorms. \" class=\"forecast-icon\" src=\"newimages/medium/shra60.png\" title=\"Today: Showers likely and possibly a thunderstorm.  Mostly cloudy, with a high near 67. Southeast wind around 5 mph.  Chance of precipitation is 60%. New rainfall amounts between a tenth and quarter of an inch, except higher amounts possible in thunderstorms. \"/>\n",
      " </p>\n",
      " <p class=\"short-desc\">\n",
      "  Showers\n",
      "  <br/>\n",
      "  Likely\n",
      " </p>\n",
      " <p class=\"temp temp-high\">\n",
      "  High: 67 °F\n",
      " </p>\n",
      "</div>\n"
     ]
    }
   ],
   "source": [
    "today = forecast_items[0]\n",
    "print(today.prettify())"
   ]
  },
  {
   "cell_type": "code",
   "execution_count": 6,
   "id": "a93dea93",
   "metadata": {},
   "outputs": [
    {
     "name": "stdout",
     "output_type": "stream",
     "text": [
      "Today\n",
      "ShowersLikely\n",
      "High: 67 °F\n",
      "\n",
      "Today: Showers likely and possibly a thunderstorm.  Mostly cloudy, with a high near 67. Southeast wind around 5 mph.  Chance of precipitation is 60%. New rainfall amounts between a tenth and quarter of an inch, except higher amounts possible in thunderstorms. \n"
     ]
    }
   ],
   "source": [
    "period = today.find(class_ = 'period-name').get_text()\n",
    "short_desc = today.find(class_ = 'short-desc').get_text()\n",
    "temp = today.find(class_ = 'temp').get_text()\n",
    "\n",
    "print(period)\n",
    "print(short_desc)\n",
    "print(temp,end='\\n\\n')\n",
    "\n",
    "img = today.find('img')\n",
    "desc = img['title']\n",
    "\n",
    "print(desc)"
   ]
  },
  {
   "cell_type": "code",
   "execution_count": 7,
   "id": "e4a2f895",
   "metadata": {},
   "outputs": [
    {
     "data": {
      "text/plain": [
       "['Today',\n",
       " 'Tonight',\n",
       " 'Friday',\n",
       " 'FridayNight',\n",
       " 'Saturday',\n",
       " 'SaturdayNight',\n",
       " 'Sunday',\n",
       " 'SundayNight',\n",
       " 'Monday']"
      ]
     },
     "execution_count": 7,
     "metadata": {},
     "output_type": "execute_result"
    }
   ],
   "source": [
    "period_tags = seven_day.select(\".tombstone-container .period-name\")\n",
    "periods = [pt.get_text() for pt in period_tags]\n",
    "periods"
   ]
  },
  {
   "cell_type": "code",
   "execution_count": 8,
   "id": "1d2e507c",
   "metadata": {},
   "outputs": [
    {
     "name": "stdout",
     "output_type": "stream",
     "text": [
      "['ShowersLikely', 'Showers', 'ChanceShowers thenMostly Sunny', 'Mostly Clear', 'Mostly Sunny', 'Partly Cloudythen ChanceShowers', 'ShowersLikely thenT-storms', 'ChanceShowers thenMostly Cloudy', 'Mostly Sunny']\n",
      "['High: 67 °F', 'Low: 59 °F', 'High: 67 °F', 'Low: 41 °F', 'High: 67 °F', 'Low: 55 °F', 'High: 74 °F', 'Low: 47 °F', 'High: 61 °F']\n",
      "['Today: Showers likely and possibly a thunderstorm.  Mostly cloudy, with a high near 67. Southeast wind around 5 mph.  Chance of precipitation is 60%. New rainfall amounts between a tenth and quarter of an inch, except higher amounts possible in thunderstorms. ', 'Tonight: Showers and possibly a thunderstorm before 3am, then showers likely.  Low around 59. East wind around 5 mph becoming west after midnight.  Chance of precipitation is 80%. New rainfall amounts between a quarter and half of an inch possible. ', 'Friday: A 50 percent chance of showers, mainly before 9am.  Partly sunny, with a high near 67. Northwest wind 5 to 10 mph.  New precipitation amounts between a tenth and quarter of an inch possible. ', 'Friday Night: Mostly clear, with a low around 41. North wind 5 to 10 mph. ', 'Saturday: Mostly sunny, with a high near 67. Northeast wind around 5 mph becoming southeast in the afternoon. ', 'Saturday Night: A 40 percent chance of showers after midnight.  Mostly cloudy, with a low around 55.', 'Sunday: Showers likely and possibly a thunderstorm, then showers and thunderstorms after noon.  High near 74. Chance of precipitation is 90%.', 'Sunday Night: A 50 percent chance of showers before midnight.  Mostly cloudy, with a low around 47.', 'Monday: Mostly sunny, with a high near 61.']\n"
     ]
    }
   ],
   "source": [
    "short_descs = [sd.get_text() for sd in seven_day.select(\".tombstone-container .short-desc\")]\n",
    "temps = [t.get_text() for t in seven_day.select(\".tombstone-container .temp\")]\n",
    "descs = [d[\"title\"] for d in seven_day.select(\".tombstone-container img\")]\n",
    "\n",
    "print(short_descs)\n",
    "print(temps)\n",
    "print(descs)"
   ]
  },
  {
   "cell_type": "code",
   "execution_count": 10,
   "id": "b10f61b9",
   "metadata": {},
   "outputs": [
    {
     "data": {
      "text/html": [
       "<div>\n",
       "<style scoped>\n",
       "    .dataframe tbody tr th:only-of-type {\n",
       "        vertical-align: middle;\n",
       "    }\n",
       "\n",
       "    .dataframe tbody tr th {\n",
       "        vertical-align: top;\n",
       "    }\n",
       "\n",
       "    .dataframe thead th {\n",
       "        text-align: right;\n",
       "    }\n",
       "</style>\n",
       "<table border=\"1\" class=\"dataframe\">\n",
       "  <thead>\n",
       "    <tr style=\"text-align: right;\">\n",
       "      <th></th>\n",
       "      <th>period</th>\n",
       "      <th>short_desc</th>\n",
       "      <th>temp</th>\n",
       "      <th>desc</th>\n",
       "    </tr>\n",
       "  </thead>\n",
       "  <tbody>\n",
       "    <tr>\n",
       "      <th>0</th>\n",
       "      <td>Today</td>\n",
       "      <td>ShowersLikely</td>\n",
       "      <td>High: 67 °F</td>\n",
       "      <td>Today: Showers likely and possibly a thunderst...</td>\n",
       "    </tr>\n",
       "    <tr>\n",
       "      <th>1</th>\n",
       "      <td>Tonight</td>\n",
       "      <td>Showers</td>\n",
       "      <td>Low: 59 °F</td>\n",
       "      <td>Tonight: Showers and possibly a thunderstorm b...</td>\n",
       "    </tr>\n",
       "    <tr>\n",
       "      <th>2</th>\n",
       "      <td>Friday</td>\n",
       "      <td>ChanceShowers thenMostly Sunny</td>\n",
       "      <td>High: 67 °F</td>\n",
       "      <td>Friday: A 50 percent chance of showers, mainly...</td>\n",
       "    </tr>\n",
       "    <tr>\n",
       "      <th>3</th>\n",
       "      <td>FridayNight</td>\n",
       "      <td>Mostly Clear</td>\n",
       "      <td>Low: 41 °F</td>\n",
       "      <td>Friday Night: Mostly clear, with a low around ...</td>\n",
       "    </tr>\n",
       "    <tr>\n",
       "      <th>4</th>\n",
       "      <td>Saturday</td>\n",
       "      <td>Mostly Sunny</td>\n",
       "      <td>High: 67 °F</td>\n",
       "      <td>Saturday: Mostly sunny, with a high near 67. N...</td>\n",
       "    </tr>\n",
       "    <tr>\n",
       "      <th>5</th>\n",
       "      <td>SaturdayNight</td>\n",
       "      <td>Partly Cloudythen ChanceShowers</td>\n",
       "      <td>Low: 55 °F</td>\n",
       "      <td>Saturday Night: A 40 percent chance of showers...</td>\n",
       "    </tr>\n",
       "    <tr>\n",
       "      <th>6</th>\n",
       "      <td>Sunday</td>\n",
       "      <td>ShowersLikely thenT-storms</td>\n",
       "      <td>High: 74 °F</td>\n",
       "      <td>Sunday: Showers likely and possibly a thunders...</td>\n",
       "    </tr>\n",
       "    <tr>\n",
       "      <th>7</th>\n",
       "      <td>SundayNight</td>\n",
       "      <td>ChanceShowers thenMostly Cloudy</td>\n",
       "      <td>Low: 47 °F</td>\n",
       "      <td>Sunday Night: A 50 percent chance of showers b...</td>\n",
       "    </tr>\n",
       "    <tr>\n",
       "      <th>8</th>\n",
       "      <td>Monday</td>\n",
       "      <td>Mostly Sunny</td>\n",
       "      <td>High: 61 °F</td>\n",
       "      <td>Monday: Mostly sunny, with a high near 61.</td>\n",
       "    </tr>\n",
       "  </tbody>\n",
       "</table>\n",
       "</div>"
      ],
      "text/plain": [
       "          period                       short_desc         temp  \\\n",
       "0          Today                    ShowersLikely  High: 67 °F   \n",
       "1        Tonight                          Showers   Low: 59 °F   \n",
       "2         Friday   ChanceShowers thenMostly Sunny  High: 67 °F   \n",
       "3    FridayNight                     Mostly Clear   Low: 41 °F   \n",
       "4       Saturday                     Mostly Sunny  High: 67 °F   \n",
       "5  SaturdayNight  Partly Cloudythen ChanceShowers   Low: 55 °F   \n",
       "6         Sunday       ShowersLikely thenT-storms  High: 74 °F   \n",
       "7    SundayNight  ChanceShowers thenMostly Cloudy   Low: 47 °F   \n",
       "8         Monday                     Mostly Sunny  High: 61 °F   \n",
       "\n",
       "                                                desc  \n",
       "0  Today: Showers likely and possibly a thunderst...  \n",
       "1  Tonight: Showers and possibly a thunderstorm b...  \n",
       "2  Friday: A 50 percent chance of showers, mainly...  \n",
       "3  Friday Night: Mostly clear, with a low around ...  \n",
       "4  Saturday: Mostly sunny, with a high near 67. N...  \n",
       "5  Saturday Night: A 40 percent chance of showers...  \n",
       "6  Sunday: Showers likely and possibly a thunders...  \n",
       "7  Sunday Night: A 50 percent chance of showers b...  \n",
       "8         Monday: Mostly sunny, with a high near 61.  "
      ]
     },
     "execution_count": 10,
     "metadata": {},
     "output_type": "execute_result"
    }
   ],
   "source": [
    "weather = pd.DataFrame({\n",
    "    \"period\": periods,\n",
    "    \"short_desc\": short_descs,\n",
    "    \"temp\": temps,\n",
    "    \"desc\": descs\n",
    "})\n",
    "\n",
    "weather"
   ]
  },
  {
   "cell_type": "code",
   "execution_count": null,
   "id": "11f8924d",
   "metadata": {},
   "outputs": [],
   "source": []
  }
 ],
 "metadata": {
  "kernelspec": {
   "display_name": "Python 3 (ipykernel)",
   "language": "python",
   "name": "python3"
  },
  "language_info": {
   "codemirror_mode": {
    "name": "ipython",
    "version": 3
   },
   "file_extension": ".py",
   "mimetype": "text/x-python",
   "name": "python",
   "nbconvert_exporter": "python",
   "pygments_lexer": "ipython3",
   "version": "3.12.2"
  }
 },
 "nbformat": 4,
 "nbformat_minor": 5
}
